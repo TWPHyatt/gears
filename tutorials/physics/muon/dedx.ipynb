{
 "cells": [
  {
   "cell_type": "markdown",
   "id": "aa8d2ccc-8058-42a2-acac-5562ce687052",
   "metadata": {
    "tags": []
   },
   "source": [
    "Uncomment the following line of code by deleting the hash sign \"#\" at the beginning of the line if you run this notebook in Google Colab. Run it to install [Uproot](https://pypi.org/project/uproot/), a Python package that helps import data from a CERN [ROOT](https://root.cern.ch/) file. You don't have to do it if you run the notebook in [Binder](https://mybinder.org)."
   ]
  },
  {
   "cell_type": "code",
   "execution_count": null,
   "id": "8056ba42-67c7-4885-ab79-92a33aaee4ad",
   "metadata": {},
   "outputs": [],
   "source": [
    "#!pip install uproot"
   ]
  },
  {
   "cell_type": "code",
   "execution_count": null,
   "id": "e67c91ee-73b2-4a2a-bb5b-2317effd54f3",
   "metadata": {},
   "outputs": [],
   "source": [
    "# load uproot package\n",
    "import uproot as up"
   ]
  },
  {
   "cell_type": "code",
   "execution_count": null,
   "id": "deac5119-7e6a-4c42-8666-5349355ceeb7",
   "metadata": {},
   "outputs": [],
   "source": [
    "# load data table, or tree, as it is called by physicists, from a ROOT file shared through Google Drive\n",
    "t = up.open(\"https://drive.google.com/uc?id=1cnNmpTQE_vNGnnvs69aLsdNQHyFfeypM:t\")"
   ]
  },
  {
   "cell_type": "code",
   "execution_count": null,
   "id": "12a83e10-2e8e-4d5c-bbc4-5dd5d8532de7",
   "metadata": {
    "jupyter": {
     "outputs_hidden": true
    },
    "tags": []
   },
   "outputs": [],
   "source": [
    "# show the contents of the data table\n",
    "t.show()"
   ]
  },
  {
   "cell_type": "code",
   "execution_count": null,
   "id": "ada6d941-d14c-4e1f-85fe-f0a04f2b7bfe",
   "metadata": {
    "tags": []
   },
   "outputs": [],
   "source": [
    "# get hits' volume id, vlm\n",
    "vlm = t.arrays(\"vlm\")"
   ]
  },
  {
   "cell_type": "code",
   "execution_count": null,
   "id": "f3e75767-54ec-47d3-9743-cb06b799c3ec",
   "metadata": {},
   "outputs": [],
   "source": [
    "import matplotlib.pyplot as plot\n",
    "import awkward as ak"
   ]
  },
  {
   "cell_type": "code",
   "execution_count": null,
   "id": "0a46f94c-0622-412e-bdbb-561d9ab636bb",
   "metadata": {
    "jupyter": {
     "outputs_hidden": true
    },
    "tags": []
   },
   "outputs": [],
   "source": [
    "plot.hist(ak.flatten(vlm, axis=None))"
   ]
  },
  {
   "cell_type": "markdown",
   "id": "4b257952-cbea-476d-8682-1cdab21b3ac0",
   "metadata": {},
   "source": [
    "[PGD encoding](https://pdg.lbl.gov/2007/reviews/montecarlorpp.pdf) is a unique id assigned to each particle"
   ]
  },
  {
   "cell_type": "code",
   "execution_count": null,
   "id": "b448a5b0-7f25-4003-aabb-9234907effad",
   "metadata": {},
   "outputs": [],
   "source": [
    "# get particles' pgd encoding\n",
    "pdg = t.arrays(\"pdg\")"
   ]
  },
  {
   "cell_type": "code",
   "execution_count": null,
   "id": "bf9d5e5e-81a3-4965-bd9f-43f3e5fafb78",
   "metadata": {},
   "outputs": [],
   "source": [
    "plot.yscale('log')\n",
    "plot.hist(ak.flatten(pdg, axis=None),bins=40)"
   ]
  },
  {
   "cell_type": "code",
   "execution_count": null,
   "id": "5585b15d-355a-4cbf-88ea-57f676fbac60",
   "metadata": {},
   "outputs": [],
   "source": [
    "dedx = t.arrays(\"de/dl\", \"(dl!=0) & (de/dl>10) & (pdg==-13)\")"
   ]
  },
  {
   "cell_type": "code",
   "execution_count": null,
   "id": "5f12cea2-c8d3-4cc0-b894-86669cc99387",
   "metadata": {},
   "outputs": [],
   "source": [
    "plot.hist(ak.flatten(dedx, axis=None), bins=100)"
   ]
  }
 ],
 "metadata": {
  "kernelspec": {
   "display_name": "Python 3 (ipykernel)",
   "language": "python",
   "name": "python3"
  },
  "language_info": {
   "codemirror_mode": {
    "name": "ipython",
    "version": 3
   },
   "file_extension": ".py",
   "mimetype": "text/x-python",
   "name": "python",
   "nbconvert_exporter": "python",
   "pygments_lexer": "ipython3",
   "version": "3.11.2"
  }
 },
 "nbformat": 4,
 "nbformat_minor": 5
}
